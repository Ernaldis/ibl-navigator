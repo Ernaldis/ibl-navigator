{
 "cells": [
  {
   "cell_type": "code",
   "execution_count": 1,
   "id": "specialized-setting",
   "metadata": {},
   "outputs": [],
   "source": [
    "import datajoint as dj"
   ]
  },
  {
   "cell_type": "code",
   "execution_count": 2,
   "id": "smaller-metadata",
   "metadata": {},
   "outputs": [],
   "source": [
    "dj.config['database.host'] = 'datajoint.internationalbrainlab.org'\n"
   ]
  },
  {
   "cell_type": "code",
   "execution_count": 3,
   "id": "secure-turkey",
   "metadata": {},
   "outputs": [
    {
     "name": "stdout",
     "output_type": "stream",
     "text": [
      "Please enter DataJoint username: maho\n",
      "Please enter DataJoint password: ········\n",
      "Connecting maho@datajoint.internationalbrainlab.org:3306\n"
     ]
    },
    {
     "data": {
      "text/plain": [
       "DataJoint connection (connected) maho@datajoint.internationalbrainlab.org:3306"
      ]
     },
     "execution_count": 3,
     "metadata": {},
     "output_type": "execute_result"
    }
   ],
   "source": [
    "dj.conn()"
   ]
  },
  {
   "cell_type": "code",
   "execution_count": 4,
   "id": "falling-setup",
   "metadata": {},
   "outputs": [],
   "source": [
    "def test(args, proj, fetch_args=None, **kwargs):\n",
    "    fetch_args = {} if fetch_args is None else fetch_args\n",
    "    \n",
    "    \n",
    "    acquisition = dj.create_virtual_module('ibl_acquisition', 'ibl_acquisition')\n",
    "    analyses_behavior = dj.create_virtual_module('ibl_analyses_behavior', 'ibl_analyses_behavior')\n",
    "    plotting_behavior = dj.create_virtual_module('ibl_plotting_behavior', 'ibl_plotting_behavior')\n",
    "    ephys = dj.create_virtual_module('ibl_ephys', 'ibl_ephys')\n",
    "    subject = dj.create_virtual_module('ibl_subject', 'ibl_subject')\n",
    "\n",
    "    sess_proj = acquisition.Session().aggr(\n",
    "        acquisition.SessionProject().proj('session_project', dummy2='\"x\"')\n",
    "        * dj.U('dummy2'),\n",
    "        session_project='IFNULL(session_project, \"unassigned\")',\n",
    "        keep_all_rows=True\n",
    "    )\n",
    "    psych_curve = acquisition.Session().aggr(\n",
    "        # plotting_behavior.SessionPsychCurve(),\n",
    "        plotting_behavior.SessionPsychCurve().proj(dummy='\"x\"') * dj.U('dummy'),\n",
    "        #  nplot='count(distinct(concat(subject_uuid, session_start_time)))',\n",
    "        nplot='count(dummy)',\n",
    "        keep_all_rows=True)\n",
    "    ephys_data = acquisition.Session().aggr(\n",
    "        ephys.ProbeInsertion().proj(dummy3='\"x\"') * dj.U('dummy3'),\n",
    "        nprobe='count(dummy3)',\n",
    "        keep_all_rows=True)\n",
    "    trainingStatus = acquisition.Session().aggr(\n",
    "        analyses_behavior.SessionTrainingStatus().proj(dummy4='\"x\"') * dj.U('dummy4'),\n",
    "        keep_all_rows=True) * acquisition.Session().aggr(\n",
    "        (analyses_behavior.SessionTrainingStatus()),\n",
    "        training_status='training_status', good_enough_for_brainwide_map='good_enough_for_brainwide_map',\n",
    "        keep_all_rows=True\n",
    "        )\n",
    "    regions = kwargs.get('brain_regions', None)\n",
    "    #   expected format of brain_regions = [\"AB\", \"ABCa\", \"CS of TCV\"]\n",
    "    if regions is not None and len(regions) > 0: \n",
    "        region_restr = [{'acronym': v} for v in regions]\n",
    "        brain_restriction = histology.ProbeBrainRegionTemp() & region_restr\n",
    "        # brain_restriction = histology.SessionBrainRegion() & region_restr\n",
    "    else:\n",
    "        brain_restriction = {}\n",
    "    # q = ((acquisition.Session() * sess_proj * psych_curve * ephys_data * subject.Subject()*\n",
    "    #       subject.SubjectLab() * subject.SubjectUser() *\n",
    "    #       analyses_behavior.SessionTrainingStatus()) & args & brain_restriction)\n",
    "\n",
    "    q = ((acquisition.Session() * sess_proj * psych_curve * ephys_data * subject.Subject() *\n",
    "      subject.SubjectLab() * subject.SubjectUser() * trainingStatus) & brain_restriction)\n",
    "    \n",
    "    return q\n",
    "    \n",
    "    original_max_join_size = dj.conn().query(\"show variables like 'max_join_size'\").fetchall()[0][1]\n",
    "    \n",
    "    dj.conn().query(\"SET SESSION max_join_size={}\".format('18446744073709551615'))\n",
    "    q = q.proj(*proj).fetch(**fetch_args) if proj else q.fetch(**fetch_args)\n",
    "    dj.conn().query(\"SET SESSION max_join_size={}\".format(original_max_join_size))\n",
    "    \n",
    "    \n",
    "    return q\n",
    "    if isinstance(q, (list, dict)):\n",
    "        return q\n",
    "    else:\n",
    "        if proj:\n",
    "            return q.proj(*proj).fetch(**fetch_args)\n",
    "        else:\n",
    "            return q.fetch(**fetch_args)\n",
    "    \n",
    "\n",
    "    return ret\n",
    "    \n",
    "data = test({}, {})"
   ]
  },
  {
   "cell_type": "code",
   "execution_count": 17,
   "id": "arbitrary-framework",
   "metadata": {},
   "outputs": [
    {
     "data": {
      "text/plain": [
       "<pymysql.cursors.Cursor at 0x7f2bf89c20d0>"
      ]
     },
     "execution_count": 17,
     "metadata": {},
     "output_type": "execute_result"
    }
   ],
   "source": [
    "query = 'SELECT DISTINCT ' + data.make_sql()[7:]\n",
    "original_max_join_size = dj.conn().query(\"show variables like 'max_join_size'\").fetchall()[0][1]\n",
    "dj.conn().query(\"SET SESSION max_join_size={}\".format('18446744073709551615'))\n",
    "returned_data = dj.conn().query(query)\n",
    "dj.conn().query(\"SET SESSION max_join_size={}\".format(original_max_join_size))"
   ]
  },
  {
   "cell_type": "code",
   "execution_count": 29,
   "id": "emerging-gamma",
   "metadata": {},
   "outputs": [],
   "source": [
    "\n",
    "returned_data = data.fetch()"
   ]
  },
  {
   "cell_type": "code",
   "execution_count": 30,
   "id": "federal-realtor",
   "metadata": {},
   "outputs": [],
   "source": [
    "import pandas as pd"
   ]
  },
  {
   "cell_type": "code",
   "execution_count": 33,
   "id": "legendary-harvey",
   "metadata": {},
   "outputs": [],
   "source": [
    "df = pd.DataFrame(returned_data)"
   ]
  },
  {
   "cell_type": "code",
   "execution_count": 34,
   "id": "neutral-tracker",
   "metadata": {},
   "outputs": [
    {
     "data": {
      "text/plain": [
       "Index(['subject_uuid', 'session_start_time', 'session_uuid', 'session_number',\n",
       "       'session_end_time', 'session_lab', 'session_location', 'task_protocol',\n",
       "       'session_type', 'session_narrative', 'session_ts', 'session_project',\n",
       "       'nplot', 'nprobe', 'subject_nickname', 'sex', 'subject_birth_date',\n",
       "       'ear_mark', 'subject_line', 'subject_source', 'protocol_number',\n",
       "       'subject_description', 'subject_ts', 'subject_strain', 'lab_name',\n",
       "       'subjectlab_ts', 'responsible_user', 'subjectuser_ts',\n",
       "       'training_status', 'good_enough_for_brainwide_map'],\n",
       "      dtype='object')"
      ]
     },
     "execution_count": 34,
     "metadata": {},
     "output_type": "execute_result"
    }
   ],
   "source": [
    "df.columns"
   ]
  },
  {
   "cell_type": "code",
   "execution_count": 42,
   "id": "liberal-mount",
   "metadata": {},
   "outputs": [
    {
     "name": "stdout",
     "output_type": "stream",
     "text": [
      "CPU times: user 7 µs, sys: 0 ns, total: 7 µs\n",
      "Wall time: 13.8 µs\n"
     ]
    }
   ],
   "source": [
    "%time\n",
    "for column_name in df.columns: \n",
    "    df[column_name].unique()"
   ]
  },
  {
   "cell_type": "code",
   "execution_count": 27,
   "id": "injured-documentation",
   "metadata": {},
   "outputs": [
    {
     "data": {
      "text/plain": [
       "(b'\\x00w\\x83\\x94\\xc9V@\\x8d\\x8al\\xca;\\x05\\xa6\\x11\\xd5',\n",
       " datetime.datetime(2019, 8, 14, 9, 37, 17),\n",
       " b'\\x07Iy\\x83\")L\\xb2\\x8aEP\\xce\\xe3\\xfe\\x90\\x89',\n",
       " 1,\n",
       " datetime.datetime(2019, 8, 14, 9, 59, 3),\n",
       " 'cortexlab',\n",
       " '_iblrig_cortexlab_behavior_3',\n",
       " '_iblrig_tasks_trainingChoiceWorld5.2.7',\n",
       " 'Experiment',\n",
       " None,\n",
       " datetime.datetime(2019, 8, 15, 4, 37, 37),\n",
       " 'ibl_neuropixel_brainwide_01',\n",
       " 1,\n",
       " 0,\n",
       " 'KS019',\n",
       " 'F',\n",
       " datetime.date(2019, 4, 30),\n",
       " None,\n",
       " 'C57BL/6J',\n",
       " None,\n",
       " 2,\n",
       " None,\n",
       " datetime.datetime(2019, 8, 13, 17, 7, 33),\n",
       " 'C57BL/6J',\n",
       " 'cortexlab',\n",
       " datetime.datetime(2020, 9, 18, 14, 9, 33),\n",
       " 'Karolina_Socha',\n",
       " datetime.datetime(2019, 10, 7, 21, 57, 22),\n",
       " 'in_training',\n",
       " 0)"
      ]
     },
     "execution_count": 27,
     "metadata": {},
     "output_type": "execute_result"
    }
   ],
   "source": [
    "returned_data.fetchmany()[0]"
   ]
  },
  {
   "cell_type": "code",
   "execution_count": null,
   "id": "presidential-render",
   "metadata": {},
   "outputs": [],
   "source": [
    "acquisition = dj.create_virtual_module('ibl_acquisition', 'ibl_acquisition')"
   ]
  },
  {
   "cell_type": "code",
   "execution_count": null,
   "id": "every-persian",
   "metadata": {},
   "outputs": [],
   "source": [
    "acquisition.Session().aggr(n=\"count(*)\")"
   ]
  },
  {
   "cell_type": "code",
   "execution_count": null,
   "id": "hollywood-liability",
   "metadata": {},
   "outputs": [],
   "source": [
    "import json\n",
    "import numpy as np\n",
    "from datetime import date, datetime\n",
    "from uuid import UUID\n",
    "\n",
    "class DateTimeEncoder(json.JSONEncoder):\n",
    "    ''' teach json to dump datetimes, etc '''\n",
    "\n",
    "    npmap = {\n",
    "        np.bool_: bool,\n",
    "        np.uint8: str,\n",
    "        np.uint16: str,\n",
    "        np.uint32: str,\n",
    "        np.uint64: str,\n",
    "        np.int8: str,\n",
    "        np.int16: str,\n",
    "        np.int32: str,\n",
    "        np.int64: str,\n",
    "        np.float32: str,\n",
    "        np.float64: str,\n",
    "        np.ndarray: list,\n",
    "        np.void: str\n",
    "    }\n",
    "\n",
    "    def default(self, o):\n",
    "        if isinstance(o, date):\n",
    "            return o.isoformat()\n",
    "        if isinstance(o, datetime):\n",
    "            return o.isoformat()\n",
    "        if isinstance(o, UUID):\n",
    "            return str(o)\n",
    "        if type(o) in self.npmap:\n",
    "            return self.npmap[type(o)](o)\n",
    "        return json.JSONEncoder.default(self, o)\n",
    "\n",
    "    @classmethod\n",
    "    def dumps(cls, obj):\n",
    "        return json.dumps(obj, cls=cls)\n",
    "    \n",
    "DateTimeEncoder.dumps(data)"
   ]
  },
  {
   "cell_type": "code",
   "execution_count": null,
   "id": "documented-promise",
   "metadata": {},
   "outputs": [],
   "source": [
    "DateTime"
   ]
  },
  {
   "cell_type": "code",
   "execution_count": null,
   "id": "decent-nutrition",
   "metadata": {},
   "outputs": [],
   "source": [
    "ret = q if isinstance(q, (list, dict)) else (q.proj(*proj).fetch(**fetch_args)\n",
    "                                                 if proj else q.fetch(**fetch_args))"
   ]
  },
  {
   "cell_type": "code",
   "execution_count": null,
   "id": "printable-supplier",
   "metadata": {},
   "outputs": [],
   "source": [
    "session_project.proj('session_project', dummy2='\"x\"') * dj.U('dummy2')"
   ]
  },
  {
   "cell_type": "code",
   "execution_count": null,
   "id": "rough-distance",
   "metadata": {},
   "outputs": [],
   "source": [
    "session\n"
   ]
  },
  {
   "cell_type": "code",
   "execution_count": null,
   "id": "worst-broad",
   "metadata": {},
   "outputs": [],
   "source": []
  }
 ],
 "metadata": {
  "kernelspec": {
   "display_name": "Python 3",
   "language": "python",
   "name": "python3"
  },
  "language_info": {
   "codemirror_mode": {
    "name": "ipython",
    "version": 3
   },
   "file_extension": ".py",
   "mimetype": "text/x-python",
   "name": "python",
   "nbconvert_exporter": "python",
   "pygments_lexer": "ipython3",
   "version": "3.8.5"
  }
 },
 "nbformat": 4,
 "nbformat_minor": 5
}
